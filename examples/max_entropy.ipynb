{
 "cells": [
  {
   "cell_type": "markdown",
   "metadata": {},
   "source": [
    "# Entropy Maximization\n",
    "\n",
    "Here is a constrained entropy maximization problem:\n",
    "\n",
    "\\begin{array}{ll}\n",
    "    \\mbox{maximize}   & -\\sum_{i=1}^n x_i \\log x_i \\\\\n",
    "    \\mbox{subject to} & \\mathbf{1}' x = 1 \\\\\n",
    "                  & Ax \\leq b\n",
    "\\end{array}\n",
    "\n",
    "where $x \\in \\mathbf{R}^n$ is our optimization variable and $A \\in \\mathbf{R}^{m \\times n}, b \\in \\mathbf{R}^{m}$.\n",
    "\n",
    "To solve this, we can simply use the `entropy` operation Convex.jl provides."
   ]
  },
  {
   "cell_type": "code",
   "execution_count": 1,
   "metadata": {},
   "outputs": [
    {
     "name": "stdout",
     "output_type": "stream",
     "text": [
      "3.2020695902615692\n",
      "[0.0364791; 0.0496297; 0.0385616; 0.0394329; 0.0481169; 0.0416866; 0.0477884; 0.0521612; 0.0478885; 0.0392007; 0.0416253; 0.0335285; 0.0429887; 0.0368057; 0.0420185; 0.0344944; 0.0261475; 0.0342572; 0.0533753; 0.0471276; 0.0289215; 0.0385202; 0.0393067; 0.0310254; 0.0289121]\n"
     ]
    }
   ],
   "source": [
    "using Convex, SCS\n",
    "\n",
    "n = 25;\n",
    "m = 15;\n",
    "A = randn(m, n); \n",
    "b = rand(m, 1); \n",
    "\n",
    "x = Variable(n);\n",
    "problem = maximize(entropy(x), sum(x) == 1, A * x <= b)\n",
    "solve!(problem, SCSSolver(verbose=0))\n",
    "\n",
    "println(problem.optval)\n",
    "println(x.value)"
   ]
  }
 ],
 "metadata": {
  "kernelspec": {
   "display_name": "Julia 1.0.1",
   "language": "julia",
   "name": "julia-1.0"
  },
  "language_info": {
   "file_extension": ".jl",
   "mimetype": "application/julia",
   "name": "julia",
   "version": "1.0.3"
  }
 },
 "nbformat": 4,
 "nbformat_minor": 1
}
