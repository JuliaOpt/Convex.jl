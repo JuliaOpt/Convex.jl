{
 "cells": [
  {
   "cell_type": "code",
   "execution_count": 1,
   "metadata": {},
   "outputs": [
    {
     "data": {
      "text/plain": [
       "SCSSolver(Base.Iterators.Pairs(:verbose=>0))"
      ]
     },
     "execution_count": 1,
     "metadata": {},
     "output_type": "execute_result"
    }
   ],
   "source": [
    "using LinearAlgebra\n",
    "using Convex\n",
    "using SCS\n",
    "\n",
    "# passing in verbose=0 to hide output from SCS\n",
    "solver = SCSSolver(verbose=0)"
   ]
  },
  {
   "cell_type": "markdown",
   "metadata": {},
   "source": [
    "### Linear program\n",
    "$$\n",
    "\\begin{array}{ll}\n",
    "  \\mbox{maximize} & c^T x \\\\\n",
    "  \\mbox{subject to} & A x \\leq b\\\\\n",
    "  & x \\geq 1 \\\\\n",
    "  & x \\leq 10 \\\\\n",
    "  & x_2 \\leq 5 \\\\\n",
    "  & x_1 + x_4 - x_2 \\leq 10 \\\\\n",
    "\\end{array}\n",
    "$$"
   ]
  },
  {
   "cell_type": "code",
   "execution_count": 2,
   "metadata": {},
   "outputs": [
    {
     "name": "stdout",
     "output_type": "stream",
     "text": [
      "9.999998919683986\n",
      "[1.0; 0.999999; 1.0; 1.0]\n",
      "[1.0]\n"
     ]
    }
   ],
   "source": [
    "x = Variable(4)\n",
    "c = [1; 2; 3; 4]\n",
    "A = Matrix{Int}(I, 4, 4)\n",
    "b = [10; 10; 10; 10]\n",
    "p = minimize(dot(c, x)) # or c' * x\n",
    "p.constraints += A * x <= b\n",
    "p.constraints += [x >= 1; x <= 10; x[2] <= 5; x[1] + x[4] - x[2] <= 10]\n",
    "solve!(p, solver)\n",
    "\n",
    "println(p.optval)\n",
    "println(x.value)\n",
    "println(evaluate(x[1] + x[4] - x[2]))"
   ]
  },
  {
   "cell_type": "markdown",
   "metadata": {},
   "source": [
    "### Matrix Variables and promotions\n",
    "$$\n",
    "\\begin{array}{ll}\n",
    "  \\mbox{minimize} & \\| X \\|_F + y \\\\\n",
    "  \\mbox{subject to} & 2 X \\leq 1\\\\\n",
    "  & X' + y \\geq 1 \\\\\n",
    "  & X \\geq 0 \\\\\n",
    "  & y \\geq 0 \\\\\n",
    "\\end{array}\n",
    "$$"
   ]
  },
  {
   "cell_type": "code",
   "execution_count": 3,
   "metadata": {},
   "outputs": [
    {
     "name": "stdout",
     "output_type": "stream",
     "text": [
      "[3.63789e-7 3.63789e-7; 3.63789e-7 3.63789e-7]2\n",
      "1.0000010863396716\n"
     ]
    },
    {
     "data": {
      "text/plain": [
       "1.0000013766237041"
      ]
     },
     "execution_count": 3,
     "metadata": {},
     "output_type": "execute_result"
    }
   ],
   "source": [
    "X = Variable(2, 2)\n",
    "y = Variable()\n",
    "# X is a 2 x 2 variable, and y is scalar. X' + y promotes y to a 2 x 2 variable before adding them\n",
    "p = minimize(norm(vec(X), 2) + y, 2 * X <= 1, X' + y >= 1, X >= 0, y >= 0)\n",
    "solve!(p, solver)\n",
    "println(X.value, 2)\n",
    "println(y.value)\n",
    "p.optval"
   ]
  },
  {
   "cell_type": "markdown",
   "metadata": {},
   "source": [
    "### Norm, exponential and geometric mean\n",
    "$$\n",
    "\\begin{array}{ll}\n",
    "  \\mbox{satisfy} & \\| x \\|_2 \\leq 100 \\\\\n",
    "  & e^{x_1} \\leq 5 \\\\\n",
    "  & x_2 \\geq 7 \\\\\n",
    "  & \\sqrt{x_3 x_4} \\geq x_2\n",
    "\\end{array}\n",
    "$$"
   ]
  },
  {
   "cell_type": "code",
   "execution_count": 4,
   "metadata": {},
   "outputs": [
    {
     "name": "stdout",
     "output_type": "stream",
     "text": [
      "Optimal\n"
     ]
    },
    {
     "data": {
      "text/plain": [
       "4×1 Array{Float64,2}:\n",
       "  0.0              \n",
       "  8.554892320716046\n",
       " 15.329934133156783\n",
       " 15.329934133156783"
      ]
     },
     "execution_count": 4,
     "metadata": {},
     "output_type": "execute_result"
    }
   ],
   "source": [
    "x = Variable(4)\n",
    "p = satisfy(norm(x) <= 100, exp(x[1]) <= 5, x[2] >= 7, geomean(x[3], x[4]) >= x[2])\n",
    "solve!(p, solver)\n",
    "println(p.status)\n",
    "x.value"
   ]
  },
  {
   "cell_type": "markdown",
   "metadata": {},
   "source": [
    "### SDP cone and Eigenvalues\n"
   ]
  },
  {
   "cell_type": "code",
   "execution_count": 5,
   "metadata": {},
   "outputs": [
    {
     "name": "stderr",
     "output_type": "stream",
     "text": [
      "┌ Warning: Problem status Unbounded; solution may be inaccurate.\n",
      "└ @ Convex /Users/alexandrebrilhante/.julia/packages/Convex/Y3Bcx/src/solution.jl:48\n"
     ]
    },
    {
     "data": {
      "text/plain": [
       "1.0"
      ]
     },
     "execution_count": 5,
     "metadata": {},
     "output_type": "execute_result"
    }
   ],
   "source": [
    "y = Semidefinite(2)\n",
    "p = maximize(lambdamin(y))\n",
    "solve!(p, solver)\n",
    "p.optval"
   ]
  },
  {
   "cell_type": "code",
   "execution_count": 6,
   "metadata": {},
   "outputs": [
    {
     "data": {
      "text/plain": [
       "2×2 Array{Float64,2}:\n",
       " -7.43099e-6  1.0      \n",
       "  1.0         5.02967e5"
      ]
     },
     "execution_count": 6,
     "metadata": {},
     "output_type": "execute_result"
    }
   ],
   "source": [
    "x = Variable()\n",
    "y = Variable((2, 2))\n",
    "# SDP constraints\n",
    "p = minimize(x + y[1, 1], isposdef(y), x >= 1, y[2, 1] == 1)\n",
    "solve!(p, solver)\n",
    "y.value"
   ]
  },
  {
   "cell_type": "markdown",
   "metadata": {},
   "source": [
    "### Mixed integer program\n",
    "$$\n",
    "\\begin{array}{ll}\n",
    "  \\mbox{minimize} & \\sum_{i=1}^n x_i \\\\\n",
    "    \\mbox{subject to} & x \\in \\mathbb{Z}^n \\\\\n",
    "  & x \\geq 0.5 \\\\\n",
    "\\end{array}\n",
    "$$"
   ]
  },
  {
   "cell_type": "code",
   "execution_count": null,
   "metadata": {},
   "outputs": [],
   "source": [
    "using GLPKMathProgInterface\n",
    "x = Variable(4, :Int)\n",
    "p = minimize(sum(x), x >= 0.5)\n",
    "solve!(p, GLPKSolverMIP())\n",
    "x.value"
   ]
  },
  {
   "cell_type": "code",
   "execution_count": null,
   "metadata": {},
   "outputs": [],
   "source": []
  }
 ],
 "metadata": {
  "kernelspec": {
   "display_name": "Julia 1.0.1",
   "language": "julia",
   "name": "julia-1.0"
  },
  "language_info": {
   "file_extension": ".jl",
   "mimetype": "application/julia",
   "name": "julia",
   "version": "1.0.3"
  }
 },
 "nbformat": 4,
 "nbformat_minor": 1
}
